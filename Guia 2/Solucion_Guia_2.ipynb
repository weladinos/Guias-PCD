{
  "nbformat": 4,
  "nbformat_minor": 0,
  "metadata": {
    "colab": {
      "provenance": [],
      "include_colab_link": true
    },
    "kernelspec": {
      "name": "python3",
      "display_name": "Python 3"
    },
    "language_info": {
      "name": "python"
    }
  },
  "cells": [
    {
      "cell_type": "markdown",
      "metadata": {
        "id": "view-in-github",
        "colab_type": "text"
      },
      "source": [
        "<a href=\"https://colab.research.google.com/github/weladinos/Guias-PCD/blob/main/Guia%202/Solucion_Guia_2.ipynb\" target=\"_parent\"><img src=\"https://colab.research.google.com/assets/colab-badge.svg\" alt=\"Open In Colab\"/></a>"
      ]
    },
    {
      "cell_type": "markdown",
      "source": [
        "# **Guía 2**\n",
        "\n",
        "Objetivo: aplicar los conceptos de Pandas en la manipulación y análisis de datos estructurados. Se trabajará con Series y DataFrames, aplicando técnicas de acceso, selección, filtrado y agregación de datos.\n",
        "\n",
        "### **Caso de Negocio: Análisis de Deserción de Clientes en una Empresa de Telecomunicaciones**\n",
        "\n",
        "**Contexto**\n",
        "\n",
        "En la industria de las telecomunicaciones, la retención de clientes es un factor crítico para la sostenibilidad del negocio. La competencia es feroz y adquirir nuevos clientes suele ser más costoso que mantener a los actuales. En este análisis, exploraremos un conjunto de datos que contiene información detallada sobre clientes que han abandonado el servicio (churn) y aquellos que permanecen activos.\n",
        "\n",
        "Nuestro objetivo es identificar los factores clave que influyen en la deserción, comprender patrones de comportamiento y generar estrategias efectivas para reducir la tasa de abandono.\n",
        "\n",
        "La empresa ha experimentado un aumento en la tasa de deserción de clientes, lo que ha provocado:\n",
        "- Pérdida de ingresos recurrentes.\n",
        "- Incremento en los costos de adquisición de nuevos clientes.\n",
        "- Menor estabilidad en la base de clientes a largo plazo.\n",
        "\n",
        "Para abordar esta problemática, es crucial identificar las razones detrás de la deserción y desarrollar estrategias para mejorar la retención de clientes.\n",
        "\n"
      ],
      "metadata": {
        "id": "sVxeQki8vRXz"
      }
    },
    {
      "cell_type": "markdown",
      "source": [
        "**Entrega del Trabajo**\n",
        "\n",
        "Los estudiantes deben trabajar en grupos de entre 2 y 4 personas. Cada grupo deberá subir su trabajo a un repositorio de GitHub, asegurándose de que el código y los archivos necesarios estén bien organizados y documentados. Posteriormente, deberán enviar el enlace del repositorio en la plataforma Canvas para su evaluación.\n",
        "\n",
        "Instrucciones para la entrega:\n",
        "\n",
        "Crear un repositorio en GitHub con un nombre descriptivo para el proyecto.\n",
        "\n",
        "Subir el código en Jupyter Notebook (.ipynb) o en formato Python (.py).\n",
        "\n",
        "Incluir un archivo README.md con una breve descripción del trabajo y las instrucciones de ejecución.\n",
        "\n",
        "Compartir el enlace del repositorio en Canvas dentro del plazo establecido.\n",
        "\n"
      ],
      "metadata": {
        "id": "TBsud25XSR0w"
      }
    },
    {
      "cell_type": "markdown",
      "source": [
        "**Descripción de las variables del dataset telecom_churn**\n",
        "\n",
        "El dataset telecom_churn contiene información detallada sobre clientes de una empresa de telecomunicaciones, incluyendo datos generales, planes contratados, uso del servicio telefónico y llamadas al servicio al cliente. Su propósito principal es analizar patrones de deserción de clientes, identificados a través de la variable churn, que indica si un cliente ha abandonado la empresa (1) o sigue siendo cliente (0).\n",
        "\n",
        "Dentro del dataset, encontramos información general como el estado (state) donde reside el cliente, el código de área (area code), y el número de teléfono (phone number), aunque esta última variable no aporta información útil para el análisis, ya que es un identificador único.\n",
        "\n",
        "Además, el dataset registra el tiempo que un cliente ha estado en la empresa a través de la variable account length, lo que puede ayudar a analizar si la duración del contrato influye en la deserción. También se incluyen detalles sobre los planes contratados, como si el cliente tiene un plan internacional (international plan), que le permite realizar llamadas internacionales, o un buzón de voz (voice mail plan), que le permite recibir mensajes de voz.\n",
        "\n",
        "En cuanto al uso del servicio, se registran datos detallados sobre el tiempo en llamadas y los costos asociados. Se divide en tres períodos del día: diurno (total day minutes, total day calls, total day charge), vespertino (total eve minutes, total eve calls, total eve charge) y nocturno (total night minutes, total night calls, total night charge), lo que permite evaluar si hay patrones de consumo que influyen en la deserción. También se incluye información sobre el uso del servicio internacional, con variables como total intl minutes (minutos en llamadas internacionales), total intl calls (cantidad de llamadas internacionales) y total intl charge (costos por llamadas internacionales).\n",
        "\n",
        "Otro aspecto clave del dataset es el número de llamadas al servicio al cliente (customer service calls), ya que una mayor cantidad de llamadas puede indicar insatisfacción y estar relacionada con la decisión del cliente de abandonar la empresa.\n",
        "\n",
        "Finalmente, la variable más importante del análisis es churn, que indica si un cliente ha desertado de la empresa. A partir de esta variable, podemos analizar qué factores influyen en la deserción y encontrar patrones en los clientes que tienen mayor probabilidad de abandonar el servicio.\n"
      ],
      "metadata": {
        "id": "R1eyqBGSScta"
      }
    },
    {
      "cell_type": "markdown",
      "source": [
        "**Exploración y Limpieza de Datos**\n",
        "\n",
        "Cargar y explorar el dataset\n",
        "\n",
        "Importa Pandas y carga el dataset telecom_churn.csv en un DataFrame.\n",
        "\n",
        "Muestra las primeras 5 filas del DataFrame.\n",
        "\n",
        "Verifica cuántas filas y columnas tiene el dataset.\n",
        "\n",
        "Muestra información general del dataset, incluyendo los tipos de datos.\n",
        "\n",
        "Identifica si hay valores nulos en alguna columna."
      ],
      "metadata": {
        "id": "-gqRGJ8yFs5Y"
      }
    },
    {
      "cell_type": "code",
      "execution_count": null,
      "metadata": {
        "id": "wuoyvrE0vQ09"
      },
      "outputs": [],
      "source": [
        "# Solución propuesta"
      ]
    },
    {
      "cell_type": "markdown",
      "source": [
        "**Análisis de Churn y Factores Relacionados**\n",
        "\n",
        "Calcula el porcentaje de clientes que han desertado (churn = 1).\n",
        "\n",
        "Identifica si los clientes con plan internacional (international plan) tienen mayor tasa de deserción.\n",
        "\n",
        "Identifica si los clientes con buzón de voz (voice mail plan) tienen menor tasa de deserción."
      ],
      "metadata": {
        "id": "PIGXq-ijFgb4"
      }
    },
    {
      "cell_type": "code",
      "source": [
        "# Solución propuesta"
      ],
      "metadata": {
        "id": "3_TFqdwBwUD-"
      },
      "execution_count": null,
      "outputs": []
    },
    {
      "cell_type": "markdown",
      "source": [
        "**Análisis de la Duración del Servicio y Deserción**\n",
        "\n",
        "¿Cuál es la duración promedio de la cuenta (account length) entre clientes que desertaron y los que permanecen?\n",
        "\n",
        "¿Los clientes con cuentas más antiguas tienen más probabilidades de desertar?"
      ],
      "metadata": {
        "id": "yL8Y_juFFup7"
      }
    },
    {
      "cell_type": "code",
      "source": [
        "# Solución propuesta"
      ],
      "metadata": {
        "id": "7ViU0n6lGFao"
      },
      "execution_count": null,
      "outputs": []
    },
    {
      "cell_type": "markdown",
      "source": [
        "**Relación entre Deserción y Uso del Servicio**\n",
        "\n",
        "Compara la cantidad de minutos usados en llamadas diurnas (total day minutes) entre clientes con y sin churn.\n",
        "\n",
        "Compara la cantidad de minutos usados en llamadas nocturnas (total night minutes).\n",
        "\n",
        "Compara el número total de llamadas (total day calls) entre clientes con y sin churn."
      ],
      "metadata": {
        "id": "vyaa82K0GF6B"
      }
    },
    {
      "cell_type": "code",
      "source": [
        "# Solución propuesta"
      ],
      "metadata": {
        "id": "d4aPKcv2GrpL"
      },
      "execution_count": null,
      "outputs": []
    },
    {
      "cell_type": "markdown",
      "source": [
        "**Impacto de las Llamadas al Servicio al Cliente en la Deserción**\n",
        "\n",
        "Calcula el número promedio de llamadas al servicio al cliente (customer service calls) entre clientes que desertaron y los que no.\n",
        "\n",
        "Divide los clientes en dos grupos:\n",
        "\n",
        "- Grupo 1: Clientes que llamaron más de 3 veces al servicio al cliente.\n",
        "- Grupo 2: Clientes que llamaron 3 veces o menos.\n",
        "Compara la tasa de churn entre ambos grupos."
      ],
      "metadata": {
        "id": "aKl9LnZgGsDT"
      }
    },
    {
      "cell_type": "code",
      "source": [
        "# Solución propuesta"
      ],
      "metadata": {
        "id": "ac9qDXgrGz-M"
      },
      "execution_count": null,
      "outputs": []
    },
    {
      "cell_type": "markdown",
      "source": [
        "**Análisis del Costo de las Llamadas y Churn**\n",
        "\n",
        "Compara el costo total de llamadas diurnas (total day charge) entre clientes con y sin churn.\n",
        "\n",
        "Compara el costo total de llamadas nocturnas (total night charge).\n",
        "\n",
        "¿Los clientes con mayor gasto en llamadas internacionales (total intl charge) tienen más probabilidades de desertar?"
      ],
      "metadata": {
        "id": "U7oTziiyG0Wb"
      }
    },
    {
      "cell_type": "code",
      "source": [
        "# Solución propuesta"
      ],
      "metadata": {
        "id": "YWGmcLdoIYwx"
      },
      "execution_count": null,
      "outputs": []
    }
  ]
}