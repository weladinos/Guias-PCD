{
  "nbformat": 4,
  "nbformat_minor": 0,
  "metadata": {
    "colab": {
      "provenance": [],
      "include_colab_link": true
    },
    "kernelspec": {
      "name": "python3",
      "display_name": "Python 3"
    },
    "language_info": {
      "name": "python"
    }
  },
  "cells": [
    {
      "cell_type": "markdown",
      "metadata": {
        "id": "view-in-github",
        "colab_type": "text"
      },
      "source": [
        "<a href=\"https://colab.research.google.com/github/weladinos/Guias-PCD/blob/main/Guia%202/Solucion_Guia_2.ipynb\" target=\"_parent\"><img src=\"https://colab.research.google.com/assets/colab-badge.svg\" alt=\"Open In Colab\"/></a>"
      ]
    },
    {
      "cell_type": "markdown",
      "source": [
        "# Integrantes:\n",
        "\n",
        "* Wilson Enrique Ladino Sonsa\n",
        "* Diego Alexander Martinez Gomez"
      ],
      "metadata": {
        "id": "wc5VczykUNKJ"
      }
    },
    {
      "cell_type": "markdown",
      "source": [
        "# **Guía 2**\n",
        "\n",
        "Objetivo: aplicar los conceptos de Pandas en la manipulación y análisis de datos estructurados. Se trabajará con Series y DataFrames, aplicando técnicas de acceso, selección, filtrado y agregación de datos.\n",
        "\n",
        "### **Caso de Negocio: Análisis de Deserción de Clientes en una Empresa de Telecomunicaciones**\n",
        "\n",
        "**Contexto**\n",
        "\n",
        "En la industria de las telecomunicaciones, la retención de clientes es un factor crítico para la sostenibilidad del negocio. La competencia es feroz y adquirir nuevos clientes suele ser más costoso que mantener a los actuales. En este análisis, exploraremos un conjunto de datos que contiene información detallada sobre clientes que han abandonado el servicio (churn) y aquellos que permanecen activos.\n",
        "\n",
        "Nuestro objetivo es identificar los factores clave que influyen en la deserción, comprender patrones de comportamiento y generar estrategias efectivas para reducir la tasa de abandono.\n",
        "\n",
        "La empresa ha experimentado un aumento en la tasa de deserción de clientes, lo que ha provocado:\n",
        "- Pérdida de ingresos recurrentes.\n",
        "- Incremento en los costos de adquisición de nuevos clientes.\n",
        "- Menor estabilidad en la base de clientes a largo plazo.\n",
        "\n",
        "Para abordar esta problemática, es crucial identificar las razones detrás de la deserción y desarrollar estrategias para mejorar la retención de clientes.\n",
        "\n"
      ],
      "metadata": {
        "id": "sVxeQki8vRXz"
      }
    },
    {
      "cell_type": "markdown",
      "source": [
        "**Entrega del Trabajo**\n",
        "\n",
        "Los estudiantes deben trabajar en grupos de entre 2 y 4 personas. Cada grupo deberá subir su trabajo a un repositorio de GitHub, asegurándose de que el código y los archivos necesarios estén bien organizados y documentados. Posteriormente, deberán enviar el enlace del repositorio en la plataforma Canvas para su evaluación.\n",
        "\n",
        "Instrucciones para la entrega:\n",
        "\n",
        "Crear un repositorio en GitHub con un nombre descriptivo para el proyecto.\n",
        "\n",
        "Subir el código en Jupyter Notebook (.ipynb) o en formato Python (.py).\n",
        "\n",
        "Incluir un archivo README.md con una breve descripción del trabajo y las instrucciones de ejecución.\n",
        "\n",
        "Compartir el enlace del repositorio en Canvas dentro del plazo establecido.\n",
        "\n"
      ],
      "metadata": {
        "id": "TBsud25XSR0w"
      }
    },
    {
      "cell_type": "markdown",
      "source": [
        "**Descripción de las variables del dataset telecom_churn**\n",
        "\n",
        "El dataset telecom_churn contiene información detallada sobre clientes de una empresa de telecomunicaciones, incluyendo datos generales, planes contratados, uso del servicio telefónico y llamadas al servicio al cliente. Su propósito principal es analizar patrones de deserción de clientes, identificados a través de la variable churn, que indica si un cliente ha abandonado la empresa (1) o sigue siendo cliente (0).\n",
        "\n",
        "Dentro del dataset, encontramos información general como el estado (state) donde reside el cliente, el código de área (area code), y el número de teléfono (phone number), aunque esta última variable no aporta información útil para el análisis, ya que es un identificador único.\n",
        "\n",
        "Además, el dataset registra el tiempo que un cliente ha estado en la empresa a través de la variable account length, lo que puede ayudar a analizar si la duración del contrato influye en la deserción. También se incluyen detalles sobre los planes contratados, como si el cliente tiene un plan internacional (international plan), que le permite realizar llamadas internacionales, o un buzón de voz (voice mail plan), que le permite recibir mensajes de voz.\n",
        "\n",
        "En cuanto al uso del servicio, se registran datos detallados sobre el tiempo en llamadas y los costos asociados. Se divide en tres períodos del día: diurno (total day minutes, total day calls, total day charge), vespertino (total eve minutes, total eve calls, total eve charge) y nocturno (total night minutes, total night calls, total night charge), lo que permite evaluar si hay patrones de consumo que influyen en la deserción. También se incluye información sobre el uso del servicio internacional, con variables como total intl minutes (minutos en llamadas internacionales), total intl calls (cantidad de llamadas internacionales) y total intl charge (costos por llamadas internacionales).\n",
        "\n",
        "Otro aspecto clave del dataset es el número de llamadas al servicio al cliente (customer service calls), ya que una mayor cantidad de llamadas puede indicar insatisfacción y estar relacionada con la decisión del cliente de abandonar la empresa.\n",
        "\n",
        "Finalmente, la variable más importante del análisis es churn, que indica si un cliente ha desertado de la empresa. A partir de esta variable, podemos analizar qué factores influyen en la deserción y encontrar patrones en los clientes que tienen mayor probabilidad de abandonar el servicio.\n"
      ],
      "metadata": {
        "id": "R1eyqBGSScta"
      }
    },
    {
      "cell_type": "markdown",
      "source": [
        "**Exploración y Limpieza de Datos**\n",
        "\n",
        "Cargar y explorar el dataset\n",
        "\n",
        "Importa Pandas y carga el dataset telecom_churn.csv en un DataFrame.\n",
        "\n",
        "Muestra las primeras 5 filas del DataFrame.\n",
        "\n",
        "Verifica cuántas filas y columnas tiene el dataset.\n",
        "\n",
        "Muestra información general del dataset, incluyendo los tipos de datos.\n",
        "\n",
        "Identifica si hay valores nulos en alguna columna."
      ],
      "metadata": {
        "id": "-gqRGJ8yFs5Y"
      }
    },
    {
      "cell_type": "code",
      "source": [
        "import pandas as pd"
      ],
      "metadata": {
        "id": "rYCIb-htB4QQ"
      },
      "execution_count": 133,
      "outputs": []
    },
    {
      "source": [
        "import pandas as pd\n",
        "\n",
        "# Cargamos el archivo CSV al repositorio de GitHub y usamos la URL del CSV sin procesar (raw)\n",
        "file_path = 'https://raw.githubusercontent.com/weladinos/Guias-PCD/refs/heads/main/Guia%202/telecom_churn.csv'\n",
        "telecom = pd.read_csv(file_path)"
      ],
      "cell_type": "code",
      "metadata": {
        "id": "uXIULqS8Fkur"
      },
      "execution_count": 134,
      "outputs": []
    },
    {
      "cell_type": "code",
      "source": [
        "telecom.head() # las primeras 5 filas del DataFrame"
      ],
      "metadata": {
        "colab": {
          "base_uri": "https://localhost:8080/",
          "height": 357
        },
        "id": "n5hHNmEfGXiz",
        "outputId": "0e7613e0-e6b8-4c39-ae0c-d1a6b1a63d38"
      },
      "execution_count": 135,
      "outputs": [
        {
          "output_type": "execute_result",
          "data": {
            "text/plain": [
              "  state  account length  area code phone number international plan  \\\n",
              "0    KS             128        415     382-4657                 no   \n",
              "1    OH             107        415     371-7191                 no   \n",
              "2    NJ             137        415     358-1921                 no   \n",
              "3    OH              84        408     375-9999                yes   \n",
              "4    OK              75        415     330-6626                yes   \n",
              "\n",
              "  voice mail plan  number vmail messages  total day minutes  total day calls  \\\n",
              "0             yes                     25              265.1              110   \n",
              "1             yes                     26              161.6              123   \n",
              "2              no                      0              243.4              114   \n",
              "3              no                      0              299.4               71   \n",
              "4              no                      0              166.7              113   \n",
              "\n",
              "   total day charge  ...  total eve calls  total eve charge  \\\n",
              "0             45.07  ...               99             16.78   \n",
              "1             27.47  ...              103             16.62   \n",
              "2             41.38  ...              110             10.30   \n",
              "3             50.90  ...               88              5.26   \n",
              "4             28.34  ...              122             12.61   \n",
              "\n",
              "   total night minutes  total night calls  total night charge  \\\n",
              "0                244.7                 91               11.01   \n",
              "1                254.4                103               11.45   \n",
              "2                162.6                104                7.32   \n",
              "3                196.9                 89                8.86   \n",
              "4                186.9                121                8.41   \n",
              "\n",
              "   total intl minutes  total intl calls  total intl charge  \\\n",
              "0                10.0                 3               2.70   \n",
              "1                13.7                 3               3.70   \n",
              "2                12.2                 5               3.29   \n",
              "3                 6.6                 7               1.78   \n",
              "4                10.1                 3               2.73   \n",
              "\n",
              "   customer service calls  churn  \n",
              "0                       1  False  \n",
              "1                       1  False  \n",
              "2                       0  False  \n",
              "3                       2  False  \n",
              "4                       3  False  \n",
              "\n",
              "[5 rows x 21 columns]"
            ],
            "text/html": [
              "\n",
              "  <div id=\"df-6152bb9f-c9ad-4c79-a976-c58c29a883cb\" class=\"colab-df-container\">\n",
              "    <div>\n",
              "<style scoped>\n",
              "    .dataframe tbody tr th:only-of-type {\n",
              "        vertical-align: middle;\n",
              "    }\n",
              "\n",
              "    .dataframe tbody tr th {\n",
              "        vertical-align: top;\n",
              "    }\n",
              "\n",
              "    .dataframe thead th {\n",
              "        text-align: right;\n",
              "    }\n",
              "</style>\n",
              "<table border=\"1\" class=\"dataframe\">\n",
              "  <thead>\n",
              "    <tr style=\"text-align: right;\">\n",
              "      <th></th>\n",
              "      <th>state</th>\n",
              "      <th>account length</th>\n",
              "      <th>area code</th>\n",
              "      <th>phone number</th>\n",
              "      <th>international plan</th>\n",
              "      <th>voice mail plan</th>\n",
              "      <th>number vmail messages</th>\n",
              "      <th>total day minutes</th>\n",
              "      <th>total day calls</th>\n",
              "      <th>total day charge</th>\n",
              "      <th>...</th>\n",
              "      <th>total eve calls</th>\n",
              "      <th>total eve charge</th>\n",
              "      <th>total night minutes</th>\n",
              "      <th>total night calls</th>\n",
              "      <th>total night charge</th>\n",
              "      <th>total intl minutes</th>\n",
              "      <th>total intl calls</th>\n",
              "      <th>total intl charge</th>\n",
              "      <th>customer service calls</th>\n",
              "      <th>churn</th>\n",
              "    </tr>\n",
              "  </thead>\n",
              "  <tbody>\n",
              "    <tr>\n",
              "      <th>0</th>\n",
              "      <td>KS</td>\n",
              "      <td>128</td>\n",
              "      <td>415</td>\n",
              "      <td>382-4657</td>\n",
              "      <td>no</td>\n",
              "      <td>yes</td>\n",
              "      <td>25</td>\n",
              "      <td>265.1</td>\n",
              "      <td>110</td>\n",
              "      <td>45.07</td>\n",
              "      <td>...</td>\n",
              "      <td>99</td>\n",
              "      <td>16.78</td>\n",
              "      <td>244.7</td>\n",
              "      <td>91</td>\n",
              "      <td>11.01</td>\n",
              "      <td>10.0</td>\n",
              "      <td>3</td>\n",
              "      <td>2.70</td>\n",
              "      <td>1</td>\n",
              "      <td>False</td>\n",
              "    </tr>\n",
              "    <tr>\n",
              "      <th>1</th>\n",
              "      <td>OH</td>\n",
              "      <td>107</td>\n",
              "      <td>415</td>\n",
              "      <td>371-7191</td>\n",
              "      <td>no</td>\n",
              "      <td>yes</td>\n",
              "      <td>26</td>\n",
              "      <td>161.6</td>\n",
              "      <td>123</td>\n",
              "      <td>27.47</td>\n",
              "      <td>...</td>\n",
              "      <td>103</td>\n",
              "      <td>16.62</td>\n",
              "      <td>254.4</td>\n",
              "      <td>103</td>\n",
              "      <td>11.45</td>\n",
              "      <td>13.7</td>\n",
              "      <td>3</td>\n",
              "      <td>3.70</td>\n",
              "      <td>1</td>\n",
              "      <td>False</td>\n",
              "    </tr>\n",
              "    <tr>\n",
              "      <th>2</th>\n",
              "      <td>NJ</td>\n",
              "      <td>137</td>\n",
              "      <td>415</td>\n",
              "      <td>358-1921</td>\n",
              "      <td>no</td>\n",
              "      <td>no</td>\n",
              "      <td>0</td>\n",
              "      <td>243.4</td>\n",
              "      <td>114</td>\n",
              "      <td>41.38</td>\n",
              "      <td>...</td>\n",
              "      <td>110</td>\n",
              "      <td>10.30</td>\n",
              "      <td>162.6</td>\n",
              "      <td>104</td>\n",
              "      <td>7.32</td>\n",
              "      <td>12.2</td>\n",
              "      <td>5</td>\n",
              "      <td>3.29</td>\n",
              "      <td>0</td>\n",
              "      <td>False</td>\n",
              "    </tr>\n",
              "    <tr>\n",
              "      <th>3</th>\n",
              "      <td>OH</td>\n",
              "      <td>84</td>\n",
              "      <td>408</td>\n",
              "      <td>375-9999</td>\n",
              "      <td>yes</td>\n",
              "      <td>no</td>\n",
              "      <td>0</td>\n",
              "      <td>299.4</td>\n",
              "      <td>71</td>\n",
              "      <td>50.90</td>\n",
              "      <td>...</td>\n",
              "      <td>88</td>\n",
              "      <td>5.26</td>\n",
              "      <td>196.9</td>\n",
              "      <td>89</td>\n",
              "      <td>8.86</td>\n",
              "      <td>6.6</td>\n",
              "      <td>7</td>\n",
              "      <td>1.78</td>\n",
              "      <td>2</td>\n",
              "      <td>False</td>\n",
              "    </tr>\n",
              "    <tr>\n",
              "      <th>4</th>\n",
              "      <td>OK</td>\n",
              "      <td>75</td>\n",
              "      <td>415</td>\n",
              "      <td>330-6626</td>\n",
              "      <td>yes</td>\n",
              "      <td>no</td>\n",
              "      <td>0</td>\n",
              "      <td>166.7</td>\n",
              "      <td>113</td>\n",
              "      <td>28.34</td>\n",
              "      <td>...</td>\n",
              "      <td>122</td>\n",
              "      <td>12.61</td>\n",
              "      <td>186.9</td>\n",
              "      <td>121</td>\n",
              "      <td>8.41</td>\n",
              "      <td>10.1</td>\n",
              "      <td>3</td>\n",
              "      <td>2.73</td>\n",
              "      <td>3</td>\n",
              "      <td>False</td>\n",
              "    </tr>\n",
              "  </tbody>\n",
              "</table>\n",
              "<p>5 rows × 21 columns</p>\n",
              "</div>\n",
              "    <div class=\"colab-df-buttons\">\n",
              "\n",
              "  <div class=\"colab-df-container\">\n",
              "    <button class=\"colab-df-convert\" onclick=\"convertToInteractive('df-6152bb9f-c9ad-4c79-a976-c58c29a883cb')\"\n",
              "            title=\"Convert this dataframe to an interactive table.\"\n",
              "            style=\"display:none;\">\n",
              "\n",
              "  <svg xmlns=\"http://www.w3.org/2000/svg\" height=\"24px\" viewBox=\"0 -960 960 960\">\n",
              "    <path d=\"M120-120v-720h720v720H120Zm60-500h600v-160H180v160Zm220 220h160v-160H400v160Zm0 220h160v-160H400v160ZM180-400h160v-160H180v160Zm440 0h160v-160H620v160ZM180-180h160v-160H180v160Zm440 0h160v-160H620v160Z\"/>\n",
              "  </svg>\n",
              "    </button>\n",
              "\n",
              "  <style>\n",
              "    .colab-df-container {\n",
              "      display:flex;\n",
              "      gap: 12px;\n",
              "    }\n",
              "\n",
              "    .colab-df-convert {\n",
              "      background-color: #E8F0FE;\n",
              "      border: none;\n",
              "      border-radius: 50%;\n",
              "      cursor: pointer;\n",
              "      display: none;\n",
              "      fill: #1967D2;\n",
              "      height: 32px;\n",
              "      padding: 0 0 0 0;\n",
              "      width: 32px;\n",
              "    }\n",
              "\n",
              "    .colab-df-convert:hover {\n",
              "      background-color: #E2EBFA;\n",
              "      box-shadow: 0px 1px 2px rgba(60, 64, 67, 0.3), 0px 1px 3px 1px rgba(60, 64, 67, 0.15);\n",
              "      fill: #174EA6;\n",
              "    }\n",
              "\n",
              "    .colab-df-buttons div {\n",
              "      margin-bottom: 4px;\n",
              "    }\n",
              "\n",
              "    [theme=dark] .colab-df-convert {\n",
              "      background-color: #3B4455;\n",
              "      fill: #D2E3FC;\n",
              "    }\n",
              "\n",
              "    [theme=dark] .colab-df-convert:hover {\n",
              "      background-color: #434B5C;\n",
              "      box-shadow: 0px 1px 3px 1px rgba(0, 0, 0, 0.15);\n",
              "      filter: drop-shadow(0px 1px 2px rgba(0, 0, 0, 0.3));\n",
              "      fill: #FFFFFF;\n",
              "    }\n",
              "  </style>\n",
              "\n",
              "    <script>\n",
              "      const buttonEl =\n",
              "        document.querySelector('#df-6152bb9f-c9ad-4c79-a976-c58c29a883cb button.colab-df-convert');\n",
              "      buttonEl.style.display =\n",
              "        google.colab.kernel.accessAllowed ? 'block' : 'none';\n",
              "\n",
              "      async function convertToInteractive(key) {\n",
              "        const element = document.querySelector('#df-6152bb9f-c9ad-4c79-a976-c58c29a883cb');\n",
              "        const dataTable =\n",
              "          await google.colab.kernel.invokeFunction('convertToInteractive',\n",
              "                                                    [key], {});\n",
              "        if (!dataTable) return;\n",
              "\n",
              "        const docLinkHtml = 'Like what you see? Visit the ' +\n",
              "          '<a target=\"_blank\" href=https://colab.research.google.com/notebooks/data_table.ipynb>data table notebook</a>'\n",
              "          + ' to learn more about interactive tables.';\n",
              "        element.innerHTML = '';\n",
              "        dataTable['output_type'] = 'display_data';\n",
              "        await google.colab.output.renderOutput(dataTable, element);\n",
              "        const docLink = document.createElement('div');\n",
              "        docLink.innerHTML = docLinkHtml;\n",
              "        element.appendChild(docLink);\n",
              "      }\n",
              "    </script>\n",
              "  </div>\n",
              "\n",
              "\n",
              "<div id=\"df-f43d6d3b-764a-452b-9c8c-ee2cea1c0ec7\">\n",
              "  <button class=\"colab-df-quickchart\" onclick=\"quickchart('df-f43d6d3b-764a-452b-9c8c-ee2cea1c0ec7')\"\n",
              "            title=\"Suggest charts\"\n",
              "            style=\"display:none;\">\n",
              "\n",
              "<svg xmlns=\"http://www.w3.org/2000/svg\" height=\"24px\"viewBox=\"0 0 24 24\"\n",
              "     width=\"24px\">\n",
              "    <g>\n",
              "        <path d=\"M19 3H5c-1.1 0-2 .9-2 2v14c0 1.1.9 2 2 2h14c1.1 0 2-.9 2-2V5c0-1.1-.9-2-2-2zM9 17H7v-7h2v7zm4 0h-2V7h2v10zm4 0h-2v-4h2v4z\"/>\n",
              "    </g>\n",
              "</svg>\n",
              "  </button>\n",
              "\n",
              "<style>\n",
              "  .colab-df-quickchart {\n",
              "      --bg-color: #E8F0FE;\n",
              "      --fill-color: #1967D2;\n",
              "      --hover-bg-color: #E2EBFA;\n",
              "      --hover-fill-color: #174EA6;\n",
              "      --disabled-fill-color: #AAA;\n",
              "      --disabled-bg-color: #DDD;\n",
              "  }\n",
              "\n",
              "  [theme=dark] .colab-df-quickchart {\n",
              "      --bg-color: #3B4455;\n",
              "      --fill-color: #D2E3FC;\n",
              "      --hover-bg-color: #434B5C;\n",
              "      --hover-fill-color: #FFFFFF;\n",
              "      --disabled-bg-color: #3B4455;\n",
              "      --disabled-fill-color: #666;\n",
              "  }\n",
              "\n",
              "  .colab-df-quickchart {\n",
              "    background-color: var(--bg-color);\n",
              "    border: none;\n",
              "    border-radius: 50%;\n",
              "    cursor: pointer;\n",
              "    display: none;\n",
              "    fill: var(--fill-color);\n",
              "    height: 32px;\n",
              "    padding: 0;\n",
              "    width: 32px;\n",
              "  }\n",
              "\n",
              "  .colab-df-quickchart:hover {\n",
              "    background-color: var(--hover-bg-color);\n",
              "    box-shadow: 0 1px 2px rgba(60, 64, 67, 0.3), 0 1px 3px 1px rgba(60, 64, 67, 0.15);\n",
              "    fill: var(--button-hover-fill-color);\n",
              "  }\n",
              "\n",
              "  .colab-df-quickchart-complete:disabled,\n",
              "  .colab-df-quickchart-complete:disabled:hover {\n",
              "    background-color: var(--disabled-bg-color);\n",
              "    fill: var(--disabled-fill-color);\n",
              "    box-shadow: none;\n",
              "  }\n",
              "\n",
              "  .colab-df-spinner {\n",
              "    border: 2px solid var(--fill-color);\n",
              "    border-color: transparent;\n",
              "    border-bottom-color: var(--fill-color);\n",
              "    animation:\n",
              "      spin 1s steps(1) infinite;\n",
              "  }\n",
              "\n",
              "  @keyframes spin {\n",
              "    0% {\n",
              "      border-color: transparent;\n",
              "      border-bottom-color: var(--fill-color);\n",
              "      border-left-color: var(--fill-color);\n",
              "    }\n",
              "    20% {\n",
              "      border-color: transparent;\n",
              "      border-left-color: var(--fill-color);\n",
              "      border-top-color: var(--fill-color);\n",
              "    }\n",
              "    30% {\n",
              "      border-color: transparent;\n",
              "      border-left-color: var(--fill-color);\n",
              "      border-top-color: var(--fill-color);\n",
              "      border-right-color: var(--fill-color);\n",
              "    }\n",
              "    40% {\n",
              "      border-color: transparent;\n",
              "      border-right-color: var(--fill-color);\n",
              "      border-top-color: var(--fill-color);\n",
              "    }\n",
              "    60% {\n",
              "      border-color: transparent;\n",
              "      border-right-color: var(--fill-color);\n",
              "    }\n",
              "    80% {\n",
              "      border-color: transparent;\n",
              "      border-right-color: var(--fill-color);\n",
              "      border-bottom-color: var(--fill-color);\n",
              "    }\n",
              "    90% {\n",
              "      border-color: transparent;\n",
              "      border-bottom-color: var(--fill-color);\n",
              "    }\n",
              "  }\n",
              "</style>\n",
              "\n",
              "  <script>\n",
              "    async function quickchart(key) {\n",
              "      const quickchartButtonEl =\n",
              "        document.querySelector('#' + key + ' button');\n",
              "      quickchartButtonEl.disabled = true;  // To prevent multiple clicks.\n",
              "      quickchartButtonEl.classList.add('colab-df-spinner');\n",
              "      try {\n",
              "        const charts = await google.colab.kernel.invokeFunction(\n",
              "            'suggestCharts', [key], {});\n",
              "      } catch (error) {\n",
              "        console.error('Error during call to suggestCharts:', error);\n",
              "      }\n",
              "      quickchartButtonEl.classList.remove('colab-df-spinner');\n",
              "      quickchartButtonEl.classList.add('colab-df-quickchart-complete');\n",
              "    }\n",
              "    (() => {\n",
              "      let quickchartButtonEl =\n",
              "        document.querySelector('#df-f43d6d3b-764a-452b-9c8c-ee2cea1c0ec7 button');\n",
              "      quickchartButtonEl.style.display =\n",
              "        google.colab.kernel.accessAllowed ? 'block' : 'none';\n",
              "    })();\n",
              "  </script>\n",
              "</div>\n",
              "\n",
              "    </div>\n",
              "  </div>\n"
            ],
            "application/vnd.google.colaboratory.intrinsic+json": {
              "type": "dataframe",
              "variable_name": "telecom"
            }
          },
          "metadata": {},
          "execution_count": 135
        }
      ]
    },
    {
      "cell_type": "code",
      "source": [
        "telecom.shape # cantidad de filas y columnas"
      ],
      "metadata": {
        "colab": {
          "base_uri": "https://localhost:8080/"
        },
        "id": "wC5dOKH3F8Ea",
        "outputId": "bb531f06-ea67-4bae-a0e6-b4bd87c45d93"
      },
      "execution_count": 136,
      "outputs": [
        {
          "output_type": "execute_result",
          "data": {
            "text/plain": [
              "(3333, 21)"
            ]
          },
          "metadata": {},
          "execution_count": 136
        }
      ]
    },
    {
      "cell_type": "code",
      "source": [
        "print(telecom.dtypes) # tipo de dato en cada columna"
      ],
      "metadata": {
        "colab": {
          "base_uri": "https://localhost:8080/"
        },
        "id": "Fy9dN1-tPR9Y",
        "outputId": "e0d461a4-faf9-42c8-c5da-00e6d9845526"
      },
      "execution_count": 137,
      "outputs": [
        {
          "output_type": "stream",
          "name": "stdout",
          "text": [
            "state                      object\n",
            "account length              int64\n",
            "area code                   int64\n",
            "phone number               object\n",
            "international plan         object\n",
            "voice mail plan            object\n",
            "number vmail messages       int64\n",
            "total day minutes         float64\n",
            "total day calls             int64\n",
            "total day charge          float64\n",
            "total eve minutes         float64\n",
            "total eve calls             int64\n",
            "total eve charge          float64\n",
            "total night minutes       float64\n",
            "total night calls           int64\n",
            "total night charge        float64\n",
            "total intl minutes        float64\n",
            "total intl calls            int64\n",
            "total intl charge         float64\n",
            "customer service calls      int64\n",
            "churn                        bool\n",
            "dtype: object\n"
          ]
        }
      ]
    },
    {
      "cell_type": "code",
      "source": [
        "'''información general del dataset'''\n",
        "#df_describe = telecom.describe()\n",
        "#print(df_describe)\n",
        "telecom.describe()\n"
      ],
      "metadata": {
        "colab": {
          "base_uri": "https://localhost:8080/",
          "height": 355
        },
        "id": "SB8P9F9eScVc",
        "outputId": "0bf61c93-a4d8-4497-91b7-3529eadbf201"
      },
      "execution_count": 138,
      "outputs": [
        {
          "output_type": "execute_result",
          "data": {
            "text/plain": [
              "       account length    area code  number vmail messages  total day minutes  \\\n",
              "count     3333.000000  3333.000000            3333.000000        3333.000000   \n",
              "mean       101.064806   437.182418               8.099010         179.775098   \n",
              "std         39.822106    42.371290              13.688365          54.467389   \n",
              "min          1.000000   408.000000               0.000000           0.000000   \n",
              "25%         74.000000   408.000000               0.000000         143.700000   \n",
              "50%        101.000000   415.000000               0.000000         179.400000   \n",
              "75%        127.000000   510.000000              20.000000         216.400000   \n",
              "max        243.000000   510.000000              51.000000         350.800000   \n",
              "\n",
              "       total day calls  total day charge  total eve minutes  total eve calls  \\\n",
              "count      3333.000000       3333.000000        3333.000000      3333.000000   \n",
              "mean        100.435644         30.562307         200.980348       100.114311   \n",
              "std          20.069084          9.259435          50.713844        19.922625   \n",
              "min           0.000000          0.000000           0.000000         0.000000   \n",
              "25%          87.000000         24.430000         166.600000        87.000000   \n",
              "50%         101.000000         30.500000         201.400000       100.000000   \n",
              "75%         114.000000         36.790000         235.300000       114.000000   \n",
              "max         165.000000         59.640000         363.700000       170.000000   \n",
              "\n",
              "       total eve charge  total night minutes  total night calls  \\\n",
              "count       3333.000000          3333.000000        3333.000000   \n",
              "mean          17.083540           200.872037         100.107711   \n",
              "std            4.310668            50.573847          19.568609   \n",
              "min            0.000000            23.200000          33.000000   \n",
              "25%           14.160000           167.000000          87.000000   \n",
              "50%           17.120000           201.200000         100.000000   \n",
              "75%           20.000000           235.300000         113.000000   \n",
              "max           30.910000           395.000000         175.000000   \n",
              "\n",
              "       total night charge  total intl minutes  total intl calls  \\\n",
              "count         3333.000000         3333.000000       3333.000000   \n",
              "mean             9.039325           10.237294          4.479448   \n",
              "std              2.275873            2.791840          2.461214   \n",
              "min              1.040000            0.000000          0.000000   \n",
              "25%              7.520000            8.500000          3.000000   \n",
              "50%              9.050000           10.300000          4.000000   \n",
              "75%             10.590000           12.100000          6.000000   \n",
              "max             17.770000           20.000000         20.000000   \n",
              "\n",
              "       total intl charge  customer service calls  \n",
              "count        3333.000000             3333.000000  \n",
              "mean            2.764581                1.562856  \n",
              "std             0.753773                1.315491  \n",
              "min             0.000000                0.000000  \n",
              "25%             2.300000                1.000000  \n",
              "50%             2.780000                1.000000  \n",
              "75%             3.270000                2.000000  \n",
              "max             5.400000                9.000000  "
            ],
            "text/html": [
              "\n",
              "  <div id=\"df-57707f23-a00b-4594-a7d6-fb77d61548a0\" class=\"colab-df-container\">\n",
              "    <div>\n",
              "<style scoped>\n",
              "    .dataframe tbody tr th:only-of-type {\n",
              "        vertical-align: middle;\n",
              "    }\n",
              "\n",
              "    .dataframe tbody tr th {\n",
              "        vertical-align: top;\n",
              "    }\n",
              "\n",
              "    .dataframe thead th {\n",
              "        text-align: right;\n",
              "    }\n",
              "</style>\n",
              "<table border=\"1\" class=\"dataframe\">\n",
              "  <thead>\n",
              "    <tr style=\"text-align: right;\">\n",
              "      <th></th>\n",
              "      <th>account length</th>\n",
              "      <th>area code</th>\n",
              "      <th>number vmail messages</th>\n",
              "      <th>total day minutes</th>\n",
              "      <th>total day calls</th>\n",
              "      <th>total day charge</th>\n",
              "      <th>total eve minutes</th>\n",
              "      <th>total eve calls</th>\n",
              "      <th>total eve charge</th>\n",
              "      <th>total night minutes</th>\n",
              "      <th>total night calls</th>\n",
              "      <th>total night charge</th>\n",
              "      <th>total intl minutes</th>\n",
              "      <th>total intl calls</th>\n",
              "      <th>total intl charge</th>\n",
              "      <th>customer service calls</th>\n",
              "    </tr>\n",
              "  </thead>\n",
              "  <tbody>\n",
              "    <tr>\n",
              "      <th>count</th>\n",
              "      <td>3333.000000</td>\n",
              "      <td>3333.000000</td>\n",
              "      <td>3333.000000</td>\n",
              "      <td>3333.000000</td>\n",
              "      <td>3333.000000</td>\n",
              "      <td>3333.000000</td>\n",
              "      <td>3333.000000</td>\n",
              "      <td>3333.000000</td>\n",
              "      <td>3333.000000</td>\n",
              "      <td>3333.000000</td>\n",
              "      <td>3333.000000</td>\n",
              "      <td>3333.000000</td>\n",
              "      <td>3333.000000</td>\n",
              "      <td>3333.000000</td>\n",
              "      <td>3333.000000</td>\n",
              "      <td>3333.000000</td>\n",
              "    </tr>\n",
              "    <tr>\n",
              "      <th>mean</th>\n",
              "      <td>101.064806</td>\n",
              "      <td>437.182418</td>\n",
              "      <td>8.099010</td>\n",
              "      <td>179.775098</td>\n",
              "      <td>100.435644</td>\n",
              "      <td>30.562307</td>\n",
              "      <td>200.980348</td>\n",
              "      <td>100.114311</td>\n",
              "      <td>17.083540</td>\n",
              "      <td>200.872037</td>\n",
              "      <td>100.107711</td>\n",
              "      <td>9.039325</td>\n",
              "      <td>10.237294</td>\n",
              "      <td>4.479448</td>\n",
              "      <td>2.764581</td>\n",
              "      <td>1.562856</td>\n",
              "    </tr>\n",
              "    <tr>\n",
              "      <th>std</th>\n",
              "      <td>39.822106</td>\n",
              "      <td>42.371290</td>\n",
              "      <td>13.688365</td>\n",
              "      <td>54.467389</td>\n",
              "      <td>20.069084</td>\n",
              "      <td>9.259435</td>\n",
              "      <td>50.713844</td>\n",
              "      <td>19.922625</td>\n",
              "      <td>4.310668</td>\n",
              "      <td>50.573847</td>\n",
              "      <td>19.568609</td>\n",
              "      <td>2.275873</td>\n",
              "      <td>2.791840</td>\n",
              "      <td>2.461214</td>\n",
              "      <td>0.753773</td>\n",
              "      <td>1.315491</td>\n",
              "    </tr>\n",
              "    <tr>\n",
              "      <th>min</th>\n",
              "      <td>1.000000</td>\n",
              "      <td>408.000000</td>\n",
              "      <td>0.000000</td>\n",
              "      <td>0.000000</td>\n",
              "      <td>0.000000</td>\n",
              "      <td>0.000000</td>\n",
              "      <td>0.000000</td>\n",
              "      <td>0.000000</td>\n",
              "      <td>0.000000</td>\n",
              "      <td>23.200000</td>\n",
              "      <td>33.000000</td>\n",
              "      <td>1.040000</td>\n",
              "      <td>0.000000</td>\n",
              "      <td>0.000000</td>\n",
              "      <td>0.000000</td>\n",
              "      <td>0.000000</td>\n",
              "    </tr>\n",
              "    <tr>\n",
              "      <th>25%</th>\n",
              "      <td>74.000000</td>\n",
              "      <td>408.000000</td>\n",
              "      <td>0.000000</td>\n",
              "      <td>143.700000</td>\n",
              "      <td>87.000000</td>\n",
              "      <td>24.430000</td>\n",
              "      <td>166.600000</td>\n",
              "      <td>87.000000</td>\n",
              "      <td>14.160000</td>\n",
              "      <td>167.000000</td>\n",
              "      <td>87.000000</td>\n",
              "      <td>7.520000</td>\n",
              "      <td>8.500000</td>\n",
              "      <td>3.000000</td>\n",
              "      <td>2.300000</td>\n",
              "      <td>1.000000</td>\n",
              "    </tr>\n",
              "    <tr>\n",
              "      <th>50%</th>\n",
              "      <td>101.000000</td>\n",
              "      <td>415.000000</td>\n",
              "      <td>0.000000</td>\n",
              "      <td>179.400000</td>\n",
              "      <td>101.000000</td>\n",
              "      <td>30.500000</td>\n",
              "      <td>201.400000</td>\n",
              "      <td>100.000000</td>\n",
              "      <td>17.120000</td>\n",
              "      <td>201.200000</td>\n",
              "      <td>100.000000</td>\n",
              "      <td>9.050000</td>\n",
              "      <td>10.300000</td>\n",
              "      <td>4.000000</td>\n",
              "      <td>2.780000</td>\n",
              "      <td>1.000000</td>\n",
              "    </tr>\n",
              "    <tr>\n",
              "      <th>75%</th>\n",
              "      <td>127.000000</td>\n",
              "      <td>510.000000</td>\n",
              "      <td>20.000000</td>\n",
              "      <td>216.400000</td>\n",
              "      <td>114.000000</td>\n",
              "      <td>36.790000</td>\n",
              "      <td>235.300000</td>\n",
              "      <td>114.000000</td>\n",
              "      <td>20.000000</td>\n",
              "      <td>235.300000</td>\n",
              "      <td>113.000000</td>\n",
              "      <td>10.590000</td>\n",
              "      <td>12.100000</td>\n",
              "      <td>6.000000</td>\n",
              "      <td>3.270000</td>\n",
              "      <td>2.000000</td>\n",
              "    </tr>\n",
              "    <tr>\n",
              "      <th>max</th>\n",
              "      <td>243.000000</td>\n",
              "      <td>510.000000</td>\n",
              "      <td>51.000000</td>\n",
              "      <td>350.800000</td>\n",
              "      <td>165.000000</td>\n",
              "      <td>59.640000</td>\n",
              "      <td>363.700000</td>\n",
              "      <td>170.000000</td>\n",
              "      <td>30.910000</td>\n",
              "      <td>395.000000</td>\n",
              "      <td>175.000000</td>\n",
              "      <td>17.770000</td>\n",
              "      <td>20.000000</td>\n",
              "      <td>20.000000</td>\n",
              "      <td>5.400000</td>\n",
              "      <td>9.000000</td>\n",
              "    </tr>\n",
              "  </tbody>\n",
              "</table>\n",
              "</div>\n",
              "    <div class=\"colab-df-buttons\">\n",
              "\n",
              "  <div class=\"colab-df-container\">\n",
              "    <button class=\"colab-df-convert\" onclick=\"convertToInteractive('df-57707f23-a00b-4594-a7d6-fb77d61548a0')\"\n",
              "            title=\"Convert this dataframe to an interactive table.\"\n",
              "            style=\"display:none;\">\n",
              "\n",
              "  <svg xmlns=\"http://www.w3.org/2000/svg\" height=\"24px\" viewBox=\"0 -960 960 960\">\n",
              "    <path d=\"M120-120v-720h720v720H120Zm60-500h600v-160H180v160Zm220 220h160v-160H400v160Zm0 220h160v-160H400v160ZM180-400h160v-160H180v160Zm440 0h160v-160H620v160ZM180-180h160v-160H180v160Zm440 0h160v-160H620v160Z\"/>\n",
              "  </svg>\n",
              "    </button>\n",
              "\n",
              "  <style>\n",
              "    .colab-df-container {\n",
              "      display:flex;\n",
              "      gap: 12px;\n",
              "    }\n",
              "\n",
              "    .colab-df-convert {\n",
              "      background-color: #E8F0FE;\n",
              "      border: none;\n",
              "      border-radius: 50%;\n",
              "      cursor: pointer;\n",
              "      display: none;\n",
              "      fill: #1967D2;\n",
              "      height: 32px;\n",
              "      padding: 0 0 0 0;\n",
              "      width: 32px;\n",
              "    }\n",
              "\n",
              "    .colab-df-convert:hover {\n",
              "      background-color: #E2EBFA;\n",
              "      box-shadow: 0px 1px 2px rgba(60, 64, 67, 0.3), 0px 1px 3px 1px rgba(60, 64, 67, 0.15);\n",
              "      fill: #174EA6;\n",
              "    }\n",
              "\n",
              "    .colab-df-buttons div {\n",
              "      margin-bottom: 4px;\n",
              "    }\n",
              "\n",
              "    [theme=dark] .colab-df-convert {\n",
              "      background-color: #3B4455;\n",
              "      fill: #D2E3FC;\n",
              "    }\n",
              "\n",
              "    [theme=dark] .colab-df-convert:hover {\n",
              "      background-color: #434B5C;\n",
              "      box-shadow: 0px 1px 3px 1px rgba(0, 0, 0, 0.15);\n",
              "      filter: drop-shadow(0px 1px 2px rgba(0, 0, 0, 0.3));\n",
              "      fill: #FFFFFF;\n",
              "    }\n",
              "  </style>\n",
              "\n",
              "    <script>\n",
              "      const buttonEl =\n",
              "        document.querySelector('#df-57707f23-a00b-4594-a7d6-fb77d61548a0 button.colab-df-convert');\n",
              "      buttonEl.style.display =\n",
              "        google.colab.kernel.accessAllowed ? 'block' : 'none';\n",
              "\n",
              "      async function convertToInteractive(key) {\n",
              "        const element = document.querySelector('#df-57707f23-a00b-4594-a7d6-fb77d61548a0');\n",
              "        const dataTable =\n",
              "          await google.colab.kernel.invokeFunction('convertToInteractive',\n",
              "                                                    [key], {});\n",
              "        if (!dataTable) return;\n",
              "\n",
              "        const docLinkHtml = 'Like what you see? Visit the ' +\n",
              "          '<a target=\"_blank\" href=https://colab.research.google.com/notebooks/data_table.ipynb>data table notebook</a>'\n",
              "          + ' to learn more about interactive tables.';\n",
              "        element.innerHTML = '';\n",
              "        dataTable['output_type'] = 'display_data';\n",
              "        await google.colab.output.renderOutput(dataTable, element);\n",
              "        const docLink = document.createElement('div');\n",
              "        docLink.innerHTML = docLinkHtml;\n",
              "        element.appendChild(docLink);\n",
              "      }\n",
              "    </script>\n",
              "  </div>\n",
              "\n",
              "\n",
              "<div id=\"df-1e34c1a4-31da-474e-97b2-b3d9cc2e18e2\">\n",
              "  <button class=\"colab-df-quickchart\" onclick=\"quickchart('df-1e34c1a4-31da-474e-97b2-b3d9cc2e18e2')\"\n",
              "            title=\"Suggest charts\"\n",
              "            style=\"display:none;\">\n",
              "\n",
              "<svg xmlns=\"http://www.w3.org/2000/svg\" height=\"24px\"viewBox=\"0 0 24 24\"\n",
              "     width=\"24px\">\n",
              "    <g>\n",
              "        <path d=\"M19 3H5c-1.1 0-2 .9-2 2v14c0 1.1.9 2 2 2h14c1.1 0 2-.9 2-2V5c0-1.1-.9-2-2-2zM9 17H7v-7h2v7zm4 0h-2V7h2v10zm4 0h-2v-4h2v4z\"/>\n",
              "    </g>\n",
              "</svg>\n",
              "  </button>\n",
              "\n",
              "<style>\n",
              "  .colab-df-quickchart {\n",
              "      --bg-color: #E8F0FE;\n",
              "      --fill-color: #1967D2;\n",
              "      --hover-bg-color: #E2EBFA;\n",
              "      --hover-fill-color: #174EA6;\n",
              "      --disabled-fill-color: #AAA;\n",
              "      --disabled-bg-color: #DDD;\n",
              "  }\n",
              "\n",
              "  [theme=dark] .colab-df-quickchart {\n",
              "      --bg-color: #3B4455;\n",
              "      --fill-color: #D2E3FC;\n",
              "      --hover-bg-color: #434B5C;\n",
              "      --hover-fill-color: #FFFFFF;\n",
              "      --disabled-bg-color: #3B4455;\n",
              "      --disabled-fill-color: #666;\n",
              "  }\n",
              "\n",
              "  .colab-df-quickchart {\n",
              "    background-color: var(--bg-color);\n",
              "    border: none;\n",
              "    border-radius: 50%;\n",
              "    cursor: pointer;\n",
              "    display: none;\n",
              "    fill: var(--fill-color);\n",
              "    height: 32px;\n",
              "    padding: 0;\n",
              "    width: 32px;\n",
              "  }\n",
              "\n",
              "  .colab-df-quickchart:hover {\n",
              "    background-color: var(--hover-bg-color);\n",
              "    box-shadow: 0 1px 2px rgba(60, 64, 67, 0.3), 0 1px 3px 1px rgba(60, 64, 67, 0.15);\n",
              "    fill: var(--button-hover-fill-color);\n",
              "  }\n",
              "\n",
              "  .colab-df-quickchart-complete:disabled,\n",
              "  .colab-df-quickchart-complete:disabled:hover {\n",
              "    background-color: var(--disabled-bg-color);\n",
              "    fill: var(--disabled-fill-color);\n",
              "    box-shadow: none;\n",
              "  }\n",
              "\n",
              "  .colab-df-spinner {\n",
              "    border: 2px solid var(--fill-color);\n",
              "    border-color: transparent;\n",
              "    border-bottom-color: var(--fill-color);\n",
              "    animation:\n",
              "      spin 1s steps(1) infinite;\n",
              "  }\n",
              "\n",
              "  @keyframes spin {\n",
              "    0% {\n",
              "      border-color: transparent;\n",
              "      border-bottom-color: var(--fill-color);\n",
              "      border-left-color: var(--fill-color);\n",
              "    }\n",
              "    20% {\n",
              "      border-color: transparent;\n",
              "      border-left-color: var(--fill-color);\n",
              "      border-top-color: var(--fill-color);\n",
              "    }\n",
              "    30% {\n",
              "      border-color: transparent;\n",
              "      border-left-color: var(--fill-color);\n",
              "      border-top-color: var(--fill-color);\n",
              "      border-right-color: var(--fill-color);\n",
              "    }\n",
              "    40% {\n",
              "      border-color: transparent;\n",
              "      border-right-color: var(--fill-color);\n",
              "      border-top-color: var(--fill-color);\n",
              "    }\n",
              "    60% {\n",
              "      border-color: transparent;\n",
              "      border-right-color: var(--fill-color);\n",
              "    }\n",
              "    80% {\n",
              "      border-color: transparent;\n",
              "      border-right-color: var(--fill-color);\n",
              "      border-bottom-color: var(--fill-color);\n",
              "    }\n",
              "    90% {\n",
              "      border-color: transparent;\n",
              "      border-bottom-color: var(--fill-color);\n",
              "    }\n",
              "  }\n",
              "</style>\n",
              "\n",
              "  <script>\n",
              "    async function quickchart(key) {\n",
              "      const quickchartButtonEl =\n",
              "        document.querySelector('#' + key + ' button');\n",
              "      quickchartButtonEl.disabled = true;  // To prevent multiple clicks.\n",
              "      quickchartButtonEl.classList.add('colab-df-spinner');\n",
              "      try {\n",
              "        const charts = await google.colab.kernel.invokeFunction(\n",
              "            'suggestCharts', [key], {});\n",
              "      } catch (error) {\n",
              "        console.error('Error during call to suggestCharts:', error);\n",
              "      }\n",
              "      quickchartButtonEl.classList.remove('colab-df-spinner');\n",
              "      quickchartButtonEl.classList.add('colab-df-quickchart-complete');\n",
              "    }\n",
              "    (() => {\n",
              "      let quickchartButtonEl =\n",
              "        document.querySelector('#df-1e34c1a4-31da-474e-97b2-b3d9cc2e18e2 button');\n",
              "      quickchartButtonEl.style.display =\n",
              "        google.colab.kernel.accessAllowed ? 'block' : 'none';\n",
              "    })();\n",
              "  </script>\n",
              "</div>\n",
              "\n",
              "    </div>\n",
              "  </div>\n"
            ],
            "application/vnd.google.colaboratory.intrinsic+json": {
              "type": "dataframe",
              "summary": "{\n  \"name\": \"telecom\",\n  \"rows\": 8,\n  \"fields\": [\n    {\n      \"column\": \"account length\",\n      \"properties\": {\n        \"dtype\": \"number\",\n        \"std\": 1145.9000546457337,\n        \"min\": 1.0,\n        \"max\": 3333.0,\n        \"num_unique_values\": 8,\n        \"samples\": [\n          101.06480648064806,\n          101.0,\n          3333.0\n        ],\n        \"semantic_type\": \"\",\n        \"description\": \"\"\n      }\n    },\n    {\n      \"column\": \"area code\",\n      \"properties\": {\n        \"dtype\": \"number\",\n        \"std\": 1050.9404187100654,\n        \"min\": 42.371290485606224,\n        \"max\": 3333.0,\n        \"num_unique_values\": 6,\n        \"samples\": [\n          3333.0,\n          437.18241824182417,\n          510.0\n        ],\n        \"semantic_type\": \"\",\n        \"description\": \"\"\n      }\n    },\n    {\n      \"column\": \"number vmail messages\",\n      \"properties\": {\n        \"dtype\": \"number\",\n        \"std\": 1173.8301515451412,\n        \"min\": 0.0,\n        \"max\": 3333.0,\n        \"num_unique_values\": 6,\n        \"samples\": [\n          3333.0,\n          8.099009900990099,\n          51.0\n        ],\n        \"semantic_type\": \"\",\n        \"description\": \"\"\n      }\n    },\n    {\n      \"column\": \"total day minutes\",\n      \"properties\": {\n        \"dtype\": \"number\",\n        \"std\": 1126.5109095005125,\n        \"min\": 0.0,\n        \"max\": 3333.0,\n        \"num_unique_values\": 8,\n        \"samples\": [\n          179.77509750975094,\n          179.4,\n          3333.0\n        ],\n        \"semantic_type\": \"\",\n        \"description\": \"\"\n      }\n    },\n    {\n      \"column\": \"total day calls\",\n      \"properties\": {\n        \"dtype\": \"number\",\n        \"std\": 1149.911513463978,\n        \"min\": 0.0,\n        \"max\": 3333.0,\n        \"num_unique_values\": 8,\n        \"samples\": [\n          100.43564356435644,\n          101.0,\n          3333.0\n        ],\n        \"semantic_type\": \"\",\n        \"description\": \"\"\n      }\n    },\n    {\n      \"column\": \"total day charge\",\n      \"properties\": {\n        \"dtype\": \"number\",\n        \"std\": 1168.8739502927276,\n        \"min\": 0.0,\n        \"max\": 3333.0,\n        \"num_unique_values\": 8,\n        \"samples\": [\n          30.562307230723075,\n          30.5,\n          3333.0\n        ],\n        \"semantic_type\": \"\",\n        \"description\": \"\"\n      }\n    },\n    {\n      \"column\": \"total eve minutes\",\n      \"properties\": {\n        \"dtype\": \"number\",\n        \"std\": 1122.3747331695974,\n        \"min\": 0.0,\n        \"max\": 3333.0,\n        \"num_unique_values\": 8,\n        \"samples\": [\n          200.98034803480348,\n          201.4,\n          3333.0\n        ],\n        \"semantic_type\": \"\",\n        \"description\": \"\"\n      }\n    },\n    {\n      \"column\": \"total eve calls\",\n      \"properties\": {\n        \"dtype\": \"number\",\n        \"std\": 1149.7835542430264,\n        \"min\": 0.0,\n        \"max\": 3333.0,\n        \"num_unique_values\": 8,\n        \"samples\": [\n          100.11431143114311,\n          100.0,\n          3333.0\n        ],\n        \"semantic_type\": \"\",\n        \"description\": \"\"\n      }\n    },\n    {\n      \"column\": \"total eve charge\",\n      \"properties\": {\n        \"dtype\": \"number\",\n        \"std\": 1173.1998112594604,\n        \"min\": 0.0,\n        \"max\": 3333.0,\n        \"num_unique_values\": 8,\n        \"samples\": [\n          17.083540354035403,\n          17.12,\n          3333.0\n        ],\n        \"semantic_type\": \"\",\n        \"description\": \"\"\n      }\n    },\n    {\n      \"column\": \"total night minutes\",\n      \"properties\": {\n        \"dtype\": \"number\",\n        \"std\": 1119.9504817494353,\n        \"min\": 23.2,\n        \"max\": 3333.0,\n        \"num_unique_values\": 8,\n        \"samples\": [\n          200.87203720372037,\n          201.2,\n          3333.0\n        ],\n        \"semantic_type\": \"\",\n        \"description\": \"\"\n      }\n    },\n    {\n      \"column\": \"total night calls\",\n      \"properties\": {\n        \"dtype\": \"number\",\n        \"std\": 1147.6980607245025,\n        \"min\": 19.568609346058615,\n        \"max\": 3333.0,\n        \"num_unique_values\": 8,\n        \"samples\": [\n          100.10771077107711,\n          100.0,\n          3333.0\n        ],\n        \"semantic_type\": \"\",\n        \"description\": \"\"\n      }\n    },\n    {\n      \"column\": \"total night charge\",\n      \"properties\": {\n        \"dtype\": \"number\",\n        \"std\": 1175.5113859334938,\n        \"min\": 1.04,\n        \"max\": 3333.0,\n        \"num_unique_values\": 8,\n        \"samples\": [\n          9.03932493249325,\n          9.05,\n          3333.0\n        ],\n        \"semantic_type\": \"\",\n        \"description\": \"\"\n      }\n    },\n    {\n      \"column\": \"total intl minutes\",\n      \"properties\": {\n        \"dtype\": \"number\",\n        \"std\": 1175.1799500190261,\n        \"min\": 0.0,\n        \"max\": 3333.0,\n        \"num_unique_values\": 8,\n        \"samples\": [\n          10.237293729372938,\n          10.3,\n          3333.0\n        ],\n        \"semantic_type\": \"\",\n        \"description\": \"\"\n      }\n    },\n    {\n      \"column\": \"total intl calls\",\n      \"properties\": {\n        \"dtype\": \"number\",\n        \"std\": 1176.3918828456763,\n        \"min\": 0.0,\n        \"max\": 3333.0,\n        \"num_unique_values\": 8,\n        \"samples\": [\n          4.4794479447944795,\n          4.0,\n          3333.0\n        ],\n        \"semantic_type\": \"\",\n        \"description\": \"\"\n      }\n    },\n    {\n      \"column\": \"total intl charge\",\n      \"properties\": {\n        \"dtype\": \"number\",\n        \"std\": 1177.5223884342768,\n        \"min\": 0.0,\n        \"max\": 3333.0,\n        \"num_unique_values\": 8,\n        \"samples\": [\n          2.7645814581458144,\n          2.78,\n          3333.0\n        ],\n        \"semantic_type\": \"\",\n        \"description\": \"\"\n      }\n    },\n    {\n      \"column\": \"customer service calls\",\n      \"properties\": {\n        \"dtype\": \"number\",\n        \"std\": 1177.5948187412755,\n        \"min\": 0.0,\n        \"max\": 3333.0,\n        \"num_unique_values\": 7,\n        \"samples\": [\n          3333.0,\n          1.5628562856285628,\n          2.0\n        ],\n        \"semantic_type\": \"\",\n        \"description\": \"\"\n      }\n    }\n  ]\n}"
            }
          },
          "metadata": {},
          "execution_count": 138
        }
      ]
    },
    {
      "cell_type": "code",
      "source": [
        "#telecom.isna().sum()\n",
        "#telecom.isnull().sum()\n",
        "telecom.info() # Validamos si tiene valore nulos"
      ],
      "metadata": {
        "colab": {
          "base_uri": "https://localhost:8080/"
        },
        "id": "zgaYkIHFT-16",
        "outputId": "53fd29ce-d42a-4347-bc01-a14b41d1d617"
      },
      "execution_count": 139,
      "outputs": [
        {
          "output_type": "stream",
          "name": "stdout",
          "text": [
            "<class 'pandas.core.frame.DataFrame'>\n",
            "RangeIndex: 3333 entries, 0 to 3332\n",
            "Data columns (total 21 columns):\n",
            " #   Column                  Non-Null Count  Dtype  \n",
            "---  ------                  --------------  -----  \n",
            " 0   state                   3333 non-null   object \n",
            " 1   account length          3333 non-null   int64  \n",
            " 2   area code               3333 non-null   int64  \n",
            " 3   phone number            3333 non-null   object \n",
            " 4   international plan      3333 non-null   object \n",
            " 5   voice mail plan         3333 non-null   object \n",
            " 6   number vmail messages   3333 non-null   int64  \n",
            " 7   total day minutes       3333 non-null   float64\n",
            " 8   total day calls         3333 non-null   int64  \n",
            " 9   total day charge        3333 non-null   float64\n",
            " 10  total eve minutes       3333 non-null   float64\n",
            " 11  total eve calls         3333 non-null   int64  \n",
            " 12  total eve charge        3333 non-null   float64\n",
            " 13  total night minutes     3333 non-null   float64\n",
            " 14  total night calls       3333 non-null   int64  \n",
            " 15  total night charge      3333 non-null   float64\n",
            " 16  total intl minutes      3333 non-null   float64\n",
            " 17  total intl calls        3333 non-null   int64  \n",
            " 18  total intl charge       3333 non-null   float64\n",
            " 19  customer service calls  3333 non-null   int64  \n",
            " 20  churn                   3333 non-null   bool   \n",
            "dtypes: bool(1), float64(8), int64(8), object(4)\n",
            "memory usage: 524.2+ KB\n"
          ]
        }
      ]
    },
    {
      "cell_type": "code",
      "source": [
        "telecom.duplicated().sum() # Validamos si tiene valores duplicados"
      ],
      "metadata": {
        "colab": {
          "base_uri": "https://localhost:8080/"
        },
        "id": "4f7Rh0J6U8Th",
        "outputId": "39539e63-a4ce-41e5-d5ba-9da42f830d69"
      },
      "execution_count": 140,
      "outputs": [
        {
          "output_type": "execute_result",
          "data": {
            "text/plain": [
              "0"
            ]
          },
          "metadata": {},
          "execution_count": 140
        }
      ]
    },
    {
      "cell_type": "markdown",
      "source": [
        "**Análisis de Churn y Factores Relacionados**\n",
        "\n",
        "Calcula el porcentaje de clientes que han desertado (churn = 1).\n",
        "\n",
        "Identifica si los clientes con plan internacional (international plan) tienen mayor tasa de deserción.\n",
        "\n",
        "Identifica si los clientes con buzón de voz (voice mail plan) tienen menor tasa de deserción."
      ],
      "metadata": {
        "id": "PIGXq-ijFgb4"
      }
    },
    {
      "cell_type": "code",
      "source": [
        "telecom[\"churn\"].value_counts()\n",
        "print(telecom[\"churn\"].value_counts())"
      ],
      "metadata": {
        "id": "3_TFqdwBwUD-",
        "colab": {
          "base_uri": "https://localhost:8080/"
        },
        "outputId": "2a3e0892-7b3a-42cc-e038-fc4c4a75cd21"
      },
      "execution_count": 141,
      "outputs": [
        {
          "output_type": "stream",
          "name": "stdout",
          "text": [
            "churn\n",
            "False    2850\n",
            "True      483\n",
            "Name: count, dtype: int64\n"
          ]
        }
      ]
    },
    {
      "cell_type": "code",
      "source": [
        "porcentaje_desertado = telecom[\"churn\"].value_counts(normalize=True)*100\n",
        "print(\"El porcentaje de clientes\")\n",
        "print(porcentaje_desertado)"
      ],
      "metadata": {
        "colab": {
          "base_uri": "https://localhost:8080/"
        },
        "id": "9D2hlusCkR_X",
        "outputId": "1810e86e-b57a-48d6-a470-b0a18dfe4b7d"
      },
      "execution_count": 142,
      "outputs": [
        {
          "output_type": "stream",
          "name": "stdout",
          "text": [
            "El porcentaje de clientes\n",
            "churn\n",
            "False    85.508551\n",
            "True     14.491449\n",
            "Name: proportion, dtype: float64\n"
          ]
        }
      ]
    },
    {
      "cell_type": "code",
      "source": [
        "#print(\"El porcentaje de clientes que han desertado \" + str(porcentaje_desertado[True]))\n",
        "\n",
        "print(f\"El porcentaje de clientes que han desertado es: {porcentaje_desertado[True]:.2f}%\")\n",
        "\n",
        "#churn_porcentaje = telecom[\"churn\"].mean() * 100\n",
        "#print(f\"El porcentaje de clientes que han desertado es: {churn_porcentaje:.1f}%\")"
      ],
      "metadata": {
        "colab": {
          "base_uri": "https://localhost:8080/"
        },
        "id": "klryFpU_o9nR",
        "outputId": "774e302e-37ed-4c5e-f48a-dd567a8241d4"
      },
      "execution_count": 143,
      "outputs": [
        {
          "output_type": "stream",
          "name": "stdout",
          "text": [
            "El porcentaje de clientes que han desertado es: 14.49%\n"
          ]
        }
      ]
    },
    {
      "cell_type": "code",
      "source": [
        "plan_internacional = telecom.groupby(\"international plan\")[\"churn\"].value_counts(normalize=True)*100\n",
        "print(plan_internacional)\n",
        "print(f\"\\nLos clientes con plan internacional desertan más ya que representan el {plan_internacional['yes'][True]:.2f}%\")\n",
        "\n",
        "\n",
        "#plan_internacional = telecom[telecom[\"international plan\"] == \"yes\"][\"churn\"].mean() * 100\n",
        "#print(f\"El porcentaje de clientes con plan internacional que han desertado es: {plan_internacional:.2f}%\")"
      ],
      "metadata": {
        "colab": {
          "base_uri": "https://localhost:8080/"
        },
        "id": "YARPUfvprYYu",
        "outputId": "e0178a8b-ad6e-4ce5-8b43-f93d4cf253a6"
      },
      "execution_count": 144,
      "outputs": [
        {
          "output_type": "stream",
          "name": "stdout",
          "text": [
            "international plan  churn\n",
            "no                  False    88.504983\n",
            "                    True     11.495017\n",
            "yes                 False    57.585139\n",
            "                    True     42.414861\n",
            "Name: proportion, dtype: float64\n",
            "\n",
            "Los clientes con plan internacional desertan más ya que representan el 42.41%\n"
          ]
        }
      ]
    },
    {
      "cell_type": "code",
      "source": [
        "buzon_voz = telecom.groupby(\"voice mail plan\")[\"churn\"].value_counts(normalize=True)*100\n",
        "print(buzon_voz)\n",
        "print(f\"\\nLos clientes con buzón de voz desertan menos ya que representan el {buzon_voz['yes'][True]:.1f}%\")"
      ],
      "metadata": {
        "colab": {
          "base_uri": "https://localhost:8080/"
        },
        "id": "xn4II2Cz0FYs",
        "outputId": "dc1e5a88-00ad-4aa8-f4be-9539297b1c97"
      },
      "execution_count": 145,
      "outputs": [
        {
          "output_type": "stream",
          "name": "stdout",
          "text": [
            "voice mail plan  churn\n",
            "no               False    83.284944\n",
            "                 True     16.715056\n",
            "yes              False    91.323210\n",
            "                 True      8.676790\n",
            "Name: proportion, dtype: float64\n",
            "\n",
            "Los clientes con buzón de voz desertan menos ya que representan el 8.7%\n"
          ]
        }
      ]
    },
    {
      "cell_type": "markdown",
      "source": [
        "**Análisis de la Duración del Servicio y Deserción**\n",
        "\n",
        "¿Cuál es la duración promedio de la cuenta (account length) entre clientes que desertaron y los que permanecen?\n",
        "\n",
        "\n",
        "\n"
      ],
      "metadata": {
        "id": "yL8Y_juFFup7"
      }
    },
    {
      "cell_type": "code",
      "source": [
        "promedio_duracion = telecom.groupby(\"churn\")[\"account length\"].mean()\n",
        "print(promedio_duracion)\n",
        "\n",
        "print(f\"\\nDuración promedio de la cuenta de clientes que permanecen: {promedio_duracion[False]:.2f} días\")\n",
        "print(f\"Duración promedio de la cuenta de clientes que desertaron: {promedio_duracion[True]:.2f} días\")\n",
        "\n",
        "print(f\"\\nNo hay una diferencia significativa en la duración de la cuenta.\")"
      ],
      "metadata": {
        "id": "7ViU0n6lGFao",
        "colab": {
          "base_uri": "https://localhost:8080/"
        },
        "outputId": "c718ebf2-091a-4319-a379-baf8f8e0cfe1"
      },
      "execution_count": 190,
      "outputs": [
        {
          "output_type": "stream",
          "name": "stdout",
          "text": [
            "churn\n",
            "False    100.793684\n",
            "True     102.664596\n",
            "Name: account length, dtype: float64\n",
            "\n",
            "Duración promedio de la cuenta de clientes que permanecen: 100.79 días\n",
            "Duración promedio de la cuenta de clientes que desertaron: 102.66 días\n",
            "\n",
            "No hay una diferencia significativa en la duración de la cuenta.\n"
          ]
        }
      ]
    },
    {
      "cell_type": "markdown",
      "source": [
        "**Relación entre Deserción y Uso del Servicio**\n",
        "\n",
        "Compara la cantidad de minutos usados en llamadas diurnas (total day minutes) entre clientes con y sin churn.\n",
        "\n",
        "Compara la cantidad de minutos usados en llamadas nocturnas (total night minutes).\n",
        "\n",
        "Compara el número total de llamadas (total day calls) entre clientes con y sin churn."
      ],
      "metadata": {
        "id": "vyaa82K0GF6B"
      }
    },
    {
      "cell_type": "code",
      "source": [
        "llamadas_diurnas = telecom.groupby(\"churn\")[\"total day minutes\"].mean()\n",
        "print(llamadas_diurnas)\n",
        "print(f\"\\ncantidad de minutos usados en llamadas diurnas entre clientes con churn: {llamadas_diurnas[True]:.2f} minutos\")\n",
        "print(f\"cantidad de minutos usados en llamadas diurnas entre clientes sin churn: {llamadas_diurnas[False]:.2f} minutos\")"
      ],
      "metadata": {
        "id": "d4aPKcv2GrpL",
        "colab": {
          "base_uri": "https://localhost:8080/"
        },
        "outputId": "01a7b044-0612-4467-fb97-f12819f7831d"
      },
      "execution_count": 186,
      "outputs": [
        {
          "output_type": "stream",
          "name": "stdout",
          "text": [
            "churn\n",
            "False    175.175754\n",
            "True     206.914079\n",
            "Name: total day minutes, dtype: float64\n",
            "\n",
            "cantidad de minutos usados en llamadas diurnas entre clientes con churn: 206.91 minutos\n",
            "cantidad de minutos usados en llamadas diurnas entre clientes sin churn: 175.18 minutos\n"
          ]
        }
      ]
    },
    {
      "cell_type": "code",
      "source": [
        "llamadas_nocturnas = telecom.groupby(\"churn\")[\"total night minutes\"].mean()\n",
        "print(llamadas_nocturnas)\n",
        "print(f\"\\ncantidad de minutos usados en llamadas nocturnas entre clientes con churn: {llamadas_nocturnas[True]:.2f} minutos\")\n",
        "print(f\"cantidad de minutos usados en llamadas nocturnas entre clientes sin churn: {llamadas_nocturnas[False]:.2f} minutos\")"
      ],
      "metadata": {
        "colab": {
          "base_uri": "https://localhost:8080/"
        },
        "id": "hBqG3vSx7GlE",
        "outputId": "820f5655-e273-40fb-90ed-8224942c60ec"
      },
      "execution_count": 185,
      "outputs": [
        {
          "output_type": "stream",
          "name": "stdout",
          "text": [
            "churn\n",
            "False    200.133193\n",
            "True     205.231677\n",
            "Name: total night minutes, dtype: float64\n",
            "\n",
            "cantidad de minutos usados en llamadas nocturnas entre clientes con churn: 205.23 minutos\n",
            "cantidad de minutos usados en llamadas nocturnas entre clientes sin churn: 200.13 minutos\n"
          ]
        }
      ]
    },
    {
      "cell_type": "code",
      "source": [
        "total_day_calls = telecom.groupby(\"churn\")[\"total day calls\"].mean()\n",
        "print(total_day_calls)\n",
        "print(f\"\\ncantidad de llamadas en el día entre clientes con churn: {total_day_calls[True]:.2f} llamadas\")\n",
        "print(f\"cantidad de llamadas en el día entre clientes sin churn: {total_day_calls[False]:.2f} llamadas\")"
      ],
      "metadata": {
        "colab": {
          "base_uri": "https://localhost:8080/"
        },
        "id": "S5Ut8nfV7--8",
        "outputId": "6f8222cd-1b23-4f1e-cd71-94102d267184"
      },
      "execution_count": 187,
      "outputs": [
        {
          "output_type": "stream",
          "name": "stdout",
          "text": [
            "churn\n",
            "False    100.283158\n",
            "True     101.335404\n",
            "Name: total day calls, dtype: float64\n",
            "\n",
            "cantidad de llamadas en el día entre clientes con churn: 101.34 llamadas\n",
            "cantidad de llamadas en el día entre clientes sin churn: 100.28 llamadas\n"
          ]
        }
      ]
    },
    {
      "cell_type": "markdown",
      "source": [
        "**Impacto de las Llamadas al Servicio al Cliente en la Deserción**\n",
        "\n",
        "Calcula el número promedio de llamadas al servicio al cliente (customer service calls) entre clientes que desertaron y los que no.\n",
        "\n",
        "Divide los clientes en dos grupos:\n",
        "\n",
        "- Grupo 1: Clientes que llamaron más de 3 veces al servicio al cliente.\n",
        "- Grupo 2: Clientes que llamaron 3 veces o menos.\n",
        "Compara la tasa de churn entre ambos grupos."
      ],
      "metadata": {
        "id": "aKl9LnZgGsDT"
      }
    },
    {
      "cell_type": "code",
      "source": [
        "servicio_cliente = telecom.groupby(\"churn\")[\"customer service calls\"].mean()\n",
        "print(servicio_cliente)"
      ],
      "metadata": {
        "id": "ac9qDXgrGz-M",
        "colab": {
          "base_uri": "https://localhost:8080/"
        },
        "outputId": "ab4c0454-0c7b-4b82-aa21-652cd4866aeb"
      },
      "execution_count": 155,
      "outputs": [
        {
          "output_type": "stream",
          "name": "stdout",
          "text": [
            "churn\n",
            "False    1.449825\n",
            "True     2.229814\n",
            "Name: customer service calls, dtype: float64\n"
          ]
        }
      ]
    },
    {
      "cell_type": "code",
      "source": [
        "Grupo1 = telecom[telecom[\"customer service calls\"] > 3]\n",
        "Grupo2 = telecom[telecom[\"customer service calls\"] <= 3]\n",
        "\n",
        "tasa_churn_grupo1 = Grupo1[\"churn\"].mean()*100\n",
        "tasa_churn_grupo2 = Grupo2[\"churn\"].mean()*100\n",
        "\n",
        "print(f\"La tasa de churn en el grupo 1 es: {tasa_churn_grupo1:.2f}%\")\n",
        "print(f\"La tasa de churn en el grupo 2 es: {tasa_churn_grupo2:.2f}%\")\n"
      ],
      "metadata": {
        "colab": {
          "base_uri": "https://localhost:8080/"
        },
        "id": "fW3Vky8kA-3O",
        "outputId": "043654c4-122b-446d-a97e-f65e1f74c157"
      },
      "execution_count": 169,
      "outputs": [
        {
          "output_type": "stream",
          "name": "stdout",
          "text": [
            "La tasa de churn en el grupo 1 es: 51.69%\n",
            "La tasa de churn en el grupo 2 es: 11.25%\n"
          ]
        }
      ]
    },
    {
      "cell_type": "markdown",
      "source": [
        "**Análisis del Costo de las Llamadas y Churn**\n",
        "\n",
        "Compara el costo total de llamadas diurnas (total day charge) entre clientes con y sin churn.\n",
        "\n",
        "Compara el costo total de llamadas nocturnas (total night charge)."
      ],
      "metadata": {
        "id": "U7oTziiyG0Wb"
      }
    },
    {
      "cell_type": "code",
      "source": [
        "costo_llamadas_diurnas = telecom.groupby(\"churn\")[\"total day charge\"].sum()\n",
        "costo_llamadas_nocturnas = telecom.groupby(\"churn\")[\"total night charge\"].sum()\n",
        "\n",
        "print(costo_llamadas_diurnas)\n",
        "print(f\"\\nCosto total de llamadas diurnas con churn: $ {costo_llamadas_diurnas[True]:,.2f}\")\n",
        "print(f\"Costo total de llamadas diurnas sin churn: $ {costo_llamadas_diurnas[False]:,.2f}\")\n",
        "print(\"\\n\")\n",
        "print(costo_llamadas_nocturnas)\n",
        "print(f\"\\nCosto total de llamadas nocturnas con churn: $ {costo_llamadas_nocturnas[True]:,.2f}\")\n",
        "print(f\"Costo total de llamadas nocturnas sin churn: $ {costo_llamadas_nocturnas[False]:,.2f}\")\n"
      ],
      "metadata": {
        "id": "YWGmcLdoIYwx",
        "colab": {
          "base_uri": "https://localhost:8080/"
        },
        "outputId": "6ab195bc-068b-45a4-a4d0-f1d9b1b53a97"
      },
      "execution_count": 188,
      "outputs": [
        {
          "output_type": "stream",
          "name": "stdout",
          "text": [
            "churn\n",
            "False    84874.20\n",
            "True     16989.97\n",
            "Name: total day charge, dtype: float64\n",
            "\n",
            "Costo total de llamadas diurnas con churn: $ 16,989.97\n",
            "Costo total de llamadas diurnas sin churn: $ 84,874.20\n",
            "\n",
            "\n",
            "churn\n",
            "False    25667.31\n",
            "True      4460.76\n",
            "Name: total night charge, dtype: float64\n",
            "\n",
            "Costo total de llamadas nocturnas con churn: $ 4,460.76\n",
            "Costo total de llamadas nocturnas sin churn: $ 25,667.31\n"
          ]
        }
      ]
    }
  ]
}